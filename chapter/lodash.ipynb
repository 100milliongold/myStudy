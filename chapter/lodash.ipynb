{
 "cells": [
  {
   "cell_type": "markdown",
   "metadata": {},
   "source": [
    "# lodash\n",
    "\n",
    "Lodash는 기능적 프로그래밍 패러다임을 사용하여 일반적인 프로그래밍 작업을위한 유틸리티 기능을 제공하는 JavaScript 라이브러리 이다"
   ]
  },
  {
   "cell_type": "markdown",
   "metadata": {},
   "source": [
    "---\n",
    "## 사용예시\n",
    "\n",
    "다음과 같은 rest api 서버에서 json 데이터를 받았다고 하자"
   ]
  },
  {
   "cell_type": "code",
   "execution_count": 3,
   "metadata": {},
   "outputs": [
    {
     "name": "stdout",
     "output_type": "stream",
     "text": [
      "{\n",
      "  result: [\n",
      "    {\n",
      "      server: '192.168.2.11',\n",
      "      server_name: 'dgx1',\n",
      "      server_id: 27,\n",
      "      gpu: [Array]\n",
      "    },\n",
      "    {\n",
      "      server: '192.168.2.13',\n",
      "      server_name: 'dgx2',\n",
      "      server_id: 28,\n",
      "      gpu: [Array]\n",
      "    }\n",
      "  ]\n",
      "}\n"
     ]
    }
   ],
   "source": [
    "var json = { \"result\": [{ \"server\": \"192.168.2.11\", \"server_name\": \"dgx1\", \"server_id\": 27, \"gpu\": [{ \"gpu_info\": [{ \"data\": \"Tesla V100-SXM2-16GB\", \"name\": \"name\" }, { \"data\": \"2019-10-16 16:24:58\", \"name\": \"timestamp\" }, { \"data\": \"0.0\", \"name\": \"utilization.gpu\" }, { \"data\": \"3.874647407085955E-4\", \"name\": \"utilization.memory\" }, { \"data\": \"32.0\", \"name\": \"temperature.gpu\" }], \"name\": \"GPU0\" }, { \"gpu_info\": [{ \"data\": \"Tesla V100-SXM2-16GB\", \"name\": \"name\" }, { \"data\": \"2019-10-16 16:24:58\", \"name\": \"timestamp\" }, { \"data\": \"0.0\", \"name\": \"utilization.gpu\" }, { \"data\": \"3.874647407085955E-4\", \"name\": \"utilization.memory\" }, { \"data\": \"34.0\", \"name\": \"temperature.gpu\" }], \"name\": \"GPU1\" }, { \"gpu_info\": [{ \"data\": \"Tesla V100-SXM2-16GB\", \"name\": \"name\" }, { \"data\": \"2019-10-16 16:24:58\", \"name\": \"timestamp\" }, { \"data\": \"0.0\", \"name\": \"utilization.gpu\" }, { \"data\": \"3.874647407085955E-4\", \"name\": \"utilization.memory\" }, { \"data\": \"34.0\", \"name\": \"temperature.gpu\" }], \"name\": \"GPU2\" }, { \"gpu_info\": [{ \"data\": \"Tesla V100-SXM2-16GB\", \"name\": \"name\" }, { \"data\": \"2019-10-16 16:24:58\", \"name\": \"timestamp\" }, { \"data\": \"0.0\", \"name\": \"utilization.gpu\" }, { \"data\": \"3.874647407085955E-4\", \"name\": \"utilization.memory\" }, { \"data\": \"33.0\", \"name\": \"temperature.gpu\" }], \"name\": \"GPU3\" }, { \"gpu_info\": [{ \"data\": \"Tesla V100-SXM2-16GB\", \"name\": \"name\" }, { \"data\": \"2019-10-16 16:24:58\", \"name\": \"timestamp\" }, { \"data\": \"0.0\", \"name\": \"utilization.gpu\" }, { \"data\": \"3.874647407085955E-4\", \"name\": \"utilization.memory\" }, { \"data\": \"33.0\", \"name\": \"temperature.gpu\" }], \"name\": \"GPU4\" }, { \"gpu_info\": [{ \"data\": \"Tesla V100-SXM2-16GB\", \"name\": \"name\" }, { \"data\": \"2019-10-16 16:24:58\", \"name\": \"timestamp\" }, { \"data\": \"0.0\", \"name\": \"utilization.gpu\" }, { \"data\": \"3.874647407085955E-4\", \"name\": \"utilization.memory\" }, { \"data\": \"33.0\", \"name\": \"temperature.gpu\" }], \"name\": \"GPU5\" }, { \"gpu_info\": [{ \"data\": \"Tesla V100-SXM2-16GB\", \"name\": \"name\" }, { \"data\": \"2019-10-16 16:24:58\", \"name\": \"timestamp\" }, { \"data\": \"0.0\", \"name\": \"utilization.gpu\" }, { \"data\": \"3.874647407085955E-4\", \"name\": \"utilization.memory\" }, { \"data\": \"35.0\", \"name\": \"temperature.gpu\" }], \"name\": \"GPU6\" }, { \"gpu_info\": [{ \"data\": \"Tesla V100-SXM2-16GB\", \"name\": \"name\" }, { \"data\": \"2019-10-16 16:24:58\", \"name\": \"timestamp\" }, { \"data\": \"0.0\", \"name\": \"utilization.gpu\" }, { \"data\": \"3.874647407085955E-4\", \"name\": \"utilization.memory\" }, { \"data\": \"34.0\", \"name\": \"temperature.gpu\" }], \"name\": \"GPU7\" }] }, { \"server\": \"192.168.2.13\", \"server_name\": \"dgx2\", \"server_id\": 28, \"gpu\": [{ \"gpu_info\": [{ \"data\": \"Tesla V100-SXM3-32GB\", \"name\": \"name\" }, { \"data\": \"2019-10-16 16:24:58\", \"name\": \"timestamp\" }, { \"data\": \"0.0\", \"name\": \"utilization.gpu\" }, { \"data\": \"3.848462923908191E-4\", \"name\": \"utilization.memory\" }, { \"data\": \"31.0\", \"name\": \"temperature.gpu\" }], \"name\": \"GPU0\" }, { \"gpu_info\": [{ \"data\": \"Tesla V100-SXM3-32GB\", \"name\": \"name\" }, { \"data\": \"2019-10-16 16:24:58\", \"name\": \"timestamp\" }, { \"data\": \"0.0\", \"name\": \"utilization.gpu\" }, { \"data\": \"1.9242314619540956E-4\", \"name\": \"utilization.memory\" }, { \"data\": \"30.0\", \"name\": \"temperature.gpu\" }], \"name\": \"GPU1\" }, { \"gpu_info\": [{ \"data\": \"Tesla V100-SXM3-32GB\", \"name\": \"name\" }, { \"data\": \"2019-10-16 16:24:58\", \"name\": \"timestamp\" }, { \"data\": \"0.0\", \"name\": \"utilization.gpu\" }, { \"data\": \"1.9242314619540956E-4\", \"name\": \"utilization.memory\" }, { \"data\": \"35.0\", \"name\": \"temperature.gpu\" }], \"name\": \"GPU2\" }, { \"gpu_info\": [{ \"data\": \"Tesla V100-SXM3-32GB\", \"name\": \"name\" }, { \"data\": \"2019-10-16 16:24:58\", \"name\": \"timestamp\" }, { \"data\": \"0.0\", \"name\": \"utilization.gpu\" }, { \"data\": \"1.9242314619540956E-4\", \"name\": \"utilization.memory\" }, { \"data\": \"36.0\", \"name\": \"temperature.gpu\" }], \"name\": \"GPU3\" }, { \"gpu_info\": [{ \"data\": \"Tesla V100-SXM3-32GB\", \"name\": \"name\" }, { \"data\": \"2019-10-16 16:24:58\", \"name\": \"timestamp\" }, { \"data\": \"0.0\", \"name\": \"utilization.gpu\" }, { \"data\": \"1.9242314619540956E-4\", \"name\": \"utilization.memory\" }, { \"data\": \"29.0\", \"name\": \"temperature.gpu\" }], \"name\": \"GPU4\" }, { \"gpu_info\": [{ \"data\": \"Tesla V100-SXM3-32GB\", \"name\": \"name\" }, { \"data\": \"2019-10-16 16:24:58\", \"name\": \"timestamp\" }, { \"data\": \"0.0\", \"name\": \"utilization.gpu\" }, { \"data\": \"1.9242314619540956E-4\", \"name\": \"utilization.memory\" }, { \"data\": \"36.0\", \"name\": \"temperature.gpu\" }], \"name\": \"GPU5\" }, { \"gpu_info\": [{ \"data\": \"Tesla V100-SXM3-32GB\", \"name\": \"name\" }, { \"data\": \"2019-10-16 16:24:58\", \"name\": \"timestamp\" }, { \"data\": \"0.0\", \"name\": \"utilization.gpu\" }, { \"data\": \"1.9242314619540956E-4\", \"name\": \"utilization.memory\" }, { \"data\": \"31.0\", \"name\": \"temperature.gpu\" }], \"name\": \"GPU6\" }, { \"gpu_info\": [{ \"data\": \"Tesla V100-SXM3-32GB\", \"name\": \"name\" }, { \"data\": \"2019-10-16 16:24:58\", \"name\": \"timestamp\" }, { \"data\": \"0.0\", \"name\": \"utilization.gpu\" }, { \"data\": \"1.9242314619540956E-4\", \"name\": \"utilization.memory\" }, { \"data\": \"36.0\", \"name\": \"temperature.gpu\" }], \"name\": \"GPU7\" }, { \"gpu_info\": [{ \"data\": \"Tesla V100-SXM3-32GB\", \"name\": \"name\" }, { \"data\": \"2019-10-16 16:24:58\", \"name\": \"timestamp\" }, { \"data\": \"0.0\", \"name\": \"utilization.gpu\" }, { \"data\": \"1.9242314619540956E-4\", \"name\": \"utilization.memory\" }, { \"data\": \"30.0\", \"name\": \"temperature.gpu\" }], \"name\": \"GPU8\" }, { \"gpu_info\": [{ \"data\": \"Tesla V100-SXM3-32GB\", \"name\": \"name\" }, { \"data\": \"2019-10-16 16:24:58\", \"name\": \"timestamp\" }, { \"data\": \"0.0\", \"name\": \"utilization.gpu\" }, { \"data\": \"1.9242314619540956E-4\", \"name\": \"utilization.memory\" }, { \"data\": \"30.0\", \"name\": \"temperature.gpu\" }], \"name\": \"GPU9\" }, { \"gpu_info\": [{ \"data\": \"Tesla V100-SXM3-32GB\", \"name\": \"name\" }, { \"data\": \"2019-10-16 16:24:58\", \"name\": \"timestamp\" }, { \"data\": \"0.0\", \"name\": \"utilization.gpu\" }, { \"data\": \"1.9242314619540956E-4\", \"name\": \"utilization.memory\" }, { \"data\": \"34.0\", \"name\": \"temperature.gpu\" }], \"name\": \"GPU10\" }, { \"gpu_info\": [{ \"data\": \"Tesla V100-SXM3-32GB\", \"name\": \"name\" }, { \"data\": \"2019-10-16 16:24:58\", \"name\": \"timestamp\" }, { \"data\": \"0.0\", \"name\": \"utilization.gpu\" }, { \"data\": \"1.9242314619540956E-4\", \"name\": \"utilization.memory\" }, { \"data\": \"35.0\", \"name\": \"temperature.gpu\" }], \"name\": \"GPU11\" }, { \"gpu_info\": [{ \"data\": \"Tesla V100-SXM3-32GB\", \"name\": \"name\" }, { \"data\": \"2019-10-16 16:24:58\", \"name\": \"timestamp\" }, { \"data\": \"0.0\", \"name\": \"utilization.gpu\" }, { \"data\": \"1.9242314619540956E-4\", \"name\": \"utilization.memory\" }, { \"data\": \"31.0\", \"name\": \"temperature.gpu\" }], \"name\": \"GPU12\" }, { \"gpu_info\": [{ \"data\": \"Tesla V100-SXM3-32GB\", \"name\": \"name\" }, { \"data\": \"2019-10-16 16:24:58\", \"name\": \"timestamp\" }, { \"data\": \"0.0\", \"name\": \"utilization.gpu\" }, { \"data\": \"1.9242314619540956E-4\", \"name\": \"utilization.memory\" }, { \"data\": \"30.0\", \"name\": \"temperature.gpu\" }], \"name\": \"GPU13\" }, { \"gpu_info\": [{ \"data\": \"Tesla V100-SXM3-32GB\", \"name\": \"name\" }, { \"data\": \"2019-10-16 16:24:58\", \"name\": \"timestamp\" }, { \"data\": \"0.0\", \"name\": \"utilization.gpu\" }, { \"data\": \"1.9242314619540956E-4\", \"name\": \"utilization.memory\" }, { \"data\": \"36.0\", \"name\": \"temperature.gpu\" }], \"name\": \"GPU14\" }, { \"gpu_info\": [{ \"data\": \"Tesla V100-SXM3-32GB\", \"name\": \"name\" }, { \"data\": \"2019-10-16 16:24:58\", \"name\": \"timestamp\" }, { \"data\": \"0.0\", \"name\": \"utilization.gpu\" }, { \"data\": \"1.9242314619540956E-4\", \"name\": \"utilization.memory\" }, { \"data\": \"34.0\", \"name\": \"temperature.gpu\" }], \"name\": \"GPU15\" }] }] }\n",
    "console.log(json)"
   ]
  },
  {
   "cell_type": "markdown",
   "metadata": {},
   "source": [
    "이젠 받아온 json 데이터을 토대로 전체서버의 `temperature.gpu` (온도)의 평균값을 구한다고 하면 기존에는 `for` 문과 `if` 문을 이용하여 처리해야 했다.\n",
    "\n",
    "만약에 Lodash 을 이용하면 좀더 편하게 계산할수 있다."
   ]
  },
  {
   "cell_type": "code",
   "execution_count": 6,
   "metadata": {},
   "outputs": [],
   "source": [
    "const _ = require('lodash')"
   ]
  },
  {
   "cell_type": "markdown",
   "metadata": {},
   "source": [
    "먼저 리스트와 함수를 받아서 리턴값을 토대로 새로운 리스트를 만들고 리스트안에 있는 리스트들을 추출하는 `_.flatMap` 을 사용한다."
   ]
  },
  {
   "cell_type": "code",
   "execution_count": 11,
   "metadata": {},
   "outputs": [
    {
     "name": "stdout",
     "output_type": "stream",
     "text": [
      "[\n",
      "  {\n",
      "    gpu_info: [ [Object], [Object], [Object], [Object], [Object] ],\n",
      "    name: 'GPU0'\n",
      "  },\n",
      "  {\n",
      "    gpu_info: [ [Object], [Object], [Object], [Object], [Object] ],\n",
      "    name: 'GPU1'\n",
      "  },\n",
      "  {\n",
      "    gpu_info: [ [Object], [Object], [Object], [Object], [Object] ],\n",
      "    name: 'GPU2'\n",
      "  },\n",
      "  {\n",
      "    gpu_info: [ [Object], [Object], [Object], [Object], [Object] ],\n",
      "    name: 'GPU3'\n",
      "  },\n",
      "  {\n",
      "    gpu_info: [ [Object], [Object], [Object], [Object], [Object] ],\n",
      "    name: 'GPU4'\n",
      "  },\n",
      "  {\n",
      "    gpu_info: [ [Object], [Object], [Object], [Object], [Object] ],\n",
      "    name: 'GPU5'\n",
      "  },\n",
      "  {\n",
      "    gpu_info: [ [Object], [Object], [Object], [Object], [Object] ],\n",
      "    name: 'GPU6'\n",
      "  },\n",
      "  {\n",
      "    gpu_info: [ [Object], [Object], [Object], [Object], [Object] ],\n",
      "    name: 'GPU7'\n",
      "  },\n",
      "  {\n",
      "    gpu_info: [ [Object], [Object], [Object], [Object], [Object] ],\n",
      "    name: 'GPU0'\n",
      "  },\n",
      "  {\n",
      "    gpu_info: [ [Object], [Object], [Object], [Object], [Object] ],\n",
      "    name: 'GPU1'\n",
      "  },\n",
      "  {\n",
      "    gpu_info: [ [Object], [Object], [Object], [Object], [Object] ],\n",
      "    name: 'GPU2'\n",
      "  },\n",
      "  {\n",
      "    gpu_info: [ [Object], [Object], [Object], [Object], [Object] ],\n",
      "    name: 'GPU3'\n",
      "  },\n",
      "  {\n",
      "    gpu_info: [ [Object], [Object], [Object], [Object], [Object] ],\n",
      "    name: 'GPU4'\n",
      "  },\n",
      "  {\n",
      "    gpu_info: [ [Object], [Object], [Object], [Object], [Object] ],\n",
      "    name: 'GPU5'\n",
      "  },\n",
      "  {\n",
      "    gpu_info: [ [Object], [Object], [Object], [Object], [Object] ],\n",
      "    name: 'GPU6'\n",
      "  },\n",
      "  {\n",
      "    gpu_info: [ [Object], [Object], [Object], [Object], [Object] ],\n",
      "    name: 'GPU7'\n",
      "  },\n",
      "  {\n",
      "    gpu_info: [ [Object], [Object], [Object], [Object], [Object] ],\n",
      "    name: 'GPU8'\n",
      "  },\n",
      "  {\n",
      "    gpu_info: [ [Object], [Object], [Object], [Object], [Object] ],\n",
      "    name: 'GPU9'\n",
      "  },\n",
      "  {\n",
      "    gpu_info: [ [Object], [Object], [Object], [Object], [Object] ],\n",
      "    name: 'GPU10'\n",
      "  },\n",
      "  {\n",
      "    gpu_info: [ [Object], [Object], [Object], [Object], [Object] ],\n",
      "    name: 'GPU11'\n",
      "  },\n",
      "  {\n",
      "    gpu_info: [ [Object], [Object], [Object], [Object], [Object] ],\n",
      "    name: 'GPU12'\n",
      "  },\n",
      "  {\n",
      "    gpu_info: [ [Object], [Object], [Object], [Object], [Object] ],\n",
      "    name: 'GPU13'\n",
      "  },\n",
      "  {\n",
      "    gpu_info: [ [Object], [Object], [Object], [Object], [Object] ],\n",
      "    name: 'GPU14'\n",
      "  },\n",
      "  {\n",
      "    gpu_info: [ [Object], [Object], [Object], [Object], [Object] ],\n",
      "    name: 'GPU15'\n",
      "  }\n",
      "]\n"
     ]
    }
   ],
   "source": [
    "var result = _(json.result)\n",
    ".flatMap(\"gpu\")\n",
    ".value()\n",
    "console.log(result)"
   ]
  },
  {
   "cell_type": "code",
   "execution_count": 12,
   "metadata": {},
   "outputs": [
    {
     "name": "stdout",
     "output_type": "stream",
     "text": [
      "[\n",
      "  { data: 'Tesla V100-SXM2-16GB', name: 'name' },\n",
      "  { data: '2019-10-16 16:24:58', name: 'timestamp' },\n",
      "  { data: '0.0', name: 'utilization.gpu' },\n",
      "  { data: '3.874647407085955E-4', name: 'utilization.memory' },\n",
      "  { data: '32.0', name: 'temperature.gpu' },\n",
      "  { data: 'Tesla V100-SXM2-16GB', name: 'name' },\n",
      "  { data: '2019-10-16 16:24:58', name: 'timestamp' },\n",
      "  { data: '0.0', name: 'utilization.gpu' },\n",
      "  { data: '3.874647407085955E-4', name: 'utilization.memory' },\n",
      "  { data: '34.0', name: 'temperature.gpu' },\n",
      "  { data: 'Tesla V100-SXM2-16GB', name: 'name' },\n",
      "  { data: '2019-10-16 16:24:58', name: 'timestamp' },\n",
      "  { data: '0.0', name: 'utilization.gpu' },\n",
      "  { data: '3.874647407085955E-4', name: 'utilization.memory' },\n",
      "  { data: '34.0', name: 'temperature.gpu' },\n",
      "  { data: 'Tesla V100-SXM2-16GB', name: 'name' },\n",
      "  { data: '2019-10-16 16:24:58', name: 'timestamp' },\n",
      "  { data: '0.0', name: 'utilization.gpu' },\n",
      "  { data: '3.874647407085955E-4', name: 'utilization.memory' },\n",
      "  { data: '33.0', name: 'temperature.gpu' },\n",
      "  { data: 'Tesla V100-SXM2-16GB', name: 'name' },\n",
      "  { data: '2019-10-16 16:24:58', name: 'timestamp' },\n",
      "  { data: '0.0', name: 'utilization.gpu' },\n",
      "  { data: '3.874647407085955E-4', name: 'utilization.memory' },\n",
      "  { data: '33.0', name: 'temperature.gpu' },\n",
      "  { data: 'Tesla V100-SXM2-16GB', name: 'name' },\n",
      "  { data: '2019-10-16 16:24:58', name: 'timestamp' },\n",
      "  { data: '0.0', name: 'utilization.gpu' },\n",
      "  { data: '3.874647407085955E-4', name: 'utilization.memory' },\n",
      "  { data: '33.0', name: 'temperature.gpu' },\n",
      "  { data: 'Tesla V100-SXM2-16GB', name: 'name' },\n",
      "  { data: '2019-10-16 16:24:58', name: 'timestamp' },\n",
      "  { data: '0.0', name: 'utilization.gpu' },\n",
      "  { data: '3.874647407085955E-4', name: 'utilization.memory' },\n",
      "  { data: '35.0', name: 'temperature.gpu' },\n",
      "  { data: 'Tesla V100-SXM2-16GB', name: 'name' },\n",
      "  { data: '2019-10-16 16:24:58', name: 'timestamp' },\n",
      "  { data: '0.0', name: 'utilization.gpu' },\n",
      "  { data: '3.874647407085955E-4', name: 'utilization.memory' },\n",
      "  { data: '34.0', name: 'temperature.gpu' },\n",
      "  { data: 'Tesla V100-SXM3-32GB', name: 'name' },\n",
      "  { data: '2019-10-16 16:24:58', name: 'timestamp' },\n",
      "  { data: '0.0', name: 'utilization.gpu' },\n",
      "  { data: '3.848462923908191E-4', name: 'utilization.memory' },\n",
      "  { data: '31.0', name: 'temperature.gpu' },\n",
      "  { data: 'Tesla V100-SXM3-32GB', name: 'name' },\n",
      "  { data: '2019-10-16 16:24:58', name: 'timestamp' },\n",
      "  { data: '0.0', name: 'utilization.gpu' },\n",
      "  { data: '1.9242314619540956E-4', name: 'utilization.memory' },\n",
      "  { data: '30.0', name: 'temperature.gpu' },\n",
      "  { data: 'Tesla V100-SXM3-32GB', name: 'name' },\n",
      "  { data: '2019-10-16 16:24:58', name: 'timestamp' },\n",
      "  { data: '0.0', name: 'utilization.gpu' },\n",
      "  { data: '1.9242314619540956E-4', name: 'utilization.memory' },\n",
      "  { data: '35.0', name: 'temperature.gpu' },\n",
      "  { data: 'Tesla V100-SXM3-32GB', name: 'name' },\n",
      "  { data: '2019-10-16 16:24:58', name: 'timestamp' },\n",
      "  { data: '0.0', name: 'utilization.gpu' },\n",
      "  { data: '1.9242314619540956E-4', name: 'utilization.memory' },\n",
      "  { data: '36.0', name: 'temperature.gpu' },\n",
      "  { data: 'Tesla V100-SXM3-32GB', name: 'name' },\n",
      "  { data: '2019-10-16 16:24:58', name: 'timestamp' },\n",
      "  { data: '0.0', name: 'utilization.gpu' },\n",
      "  { data: '1.9242314619540956E-4', name: 'utilization.memory' },\n",
      "  { data: '29.0', name: 'temperature.gpu' },\n",
      "  { data: 'Tesla V100-SXM3-32GB', name: 'name' },\n",
      "  { data: '2019-10-16 16:24:58', name: 'timestamp' },\n",
      "  { data: '0.0', name: 'utilization.gpu' },\n",
      "  { data: '1.9242314619540956E-4', name: 'utilization.memory' },\n",
      "  { data: '36.0', name: 'temperature.gpu' },\n",
      "  { data: 'Tesla V100-SXM3-32GB', name: 'name' },\n",
      "  { data: '2019-10-16 16:24:58', name: 'timestamp' },\n",
      "  { data: '0.0', name: 'utilization.gpu' },\n",
      "  { data: '1.9242314619540956E-4', name: 'utilization.memory' },\n",
      "  { data: '31.0', name: 'temperature.gpu' },\n",
      "  { data: 'Tesla V100-SXM3-32GB', name: 'name' },\n",
      "  { data: '2019-10-16 16:24:58', name: 'timestamp' },\n",
      "  { data: '0.0', name: 'utilization.gpu' },\n",
      "  { data: '1.9242314619540956E-4', name: 'utilization.memory' },\n",
      "  { data: '36.0', name: 'temperature.gpu' },\n",
      "  { data: 'Tesla V100-SXM3-32GB', name: 'name' },\n",
      "  { data: '2019-10-16 16:24:58', name: 'timestamp' },\n",
      "  { data: '0.0', name: 'utilization.gpu' },\n",
      "  { data: '1.9242314619540956E-4', name: 'utilization.memory' },\n",
      "  { data: '30.0', name: 'temperature.gpu' },\n",
      "  { data: 'Tesla V100-SXM3-32GB', name: 'name' },\n",
      "  { data: '2019-10-16 16:24:58', name: 'timestamp' },\n",
      "  { data: '0.0', name: 'utilization.gpu' },\n",
      "  { data: '1.9242314619540956E-4', name: 'utilization.memory' },\n",
      "  { data: '30.0', name: 'temperature.gpu' },\n",
      "  { data: 'Tesla V100-SXM3-32GB', name: 'name' },\n",
      "  { data: '2019-10-16 16:24:58', name: 'timestamp' },\n",
      "  { data: '0.0', name: 'utilization.gpu' },\n",
      "  { data: '1.9242314619540956E-4', name: 'utilization.memory' },\n",
      "  { data: '34.0', name: 'temperature.gpu' },\n",
      "  { data: 'Tesla V100-SXM3-32GB', name: 'name' },\n",
      "  { data: '2019-10-16 16:24:58', name: 'timestamp' },\n",
      "  { data: '0.0', name: 'utilization.gpu' },\n",
      "  { data: '1.9242314619540956E-4', name: 'utilization.memory' },\n",
      "  { data: '35.0', name: 'temperature.gpu' },\n",
      "  ... 20 more items\n",
      "]\n"
     ]
    }
   ],
   "source": [
    "var result = _(json.result)\n",
    ".flatMap(\"gpu\")\n",
    ".flatMap(\"gpu_info\")\n",
    ".value()\n",
    "console.log(result)"
   ]
  },
  {
   "cell_type": "code",
   "execution_count": 13,
   "metadata": {},
   "outputs": [
    {
     "name": "stdout",
     "output_type": "stream",
     "text": [
      "[\n",
      "  { data: '32.0', name: 'temperature.gpu' },\n",
      "  { data: '34.0', name: 'temperature.gpu' },\n",
      "  { data: '34.0', name: 'temperature.gpu' },\n",
      "  { data: '33.0', name: 'temperature.gpu' },\n",
      "  { data: '33.0', name: 'temperature.gpu' },\n",
      "  { data: '33.0', name: 'temperature.gpu' },\n",
      "  { data: '35.0', name: 'temperature.gpu' },\n",
      "  { data: '34.0', name: 'temperature.gpu' },\n",
      "  { data: '31.0', name: 'temperature.gpu' },\n",
      "  { data: '30.0', name: 'temperature.gpu' },\n",
      "  { data: '35.0', name: 'temperature.gpu' },\n",
      "  { data: '36.0', name: 'temperature.gpu' },\n",
      "  { data: '29.0', name: 'temperature.gpu' },\n",
      "  { data: '36.0', name: 'temperature.gpu' },\n",
      "  { data: '31.0', name: 'temperature.gpu' },\n",
      "  { data: '36.0', name: 'temperature.gpu' },\n",
      "  { data: '30.0', name: 'temperature.gpu' },\n",
      "  { data: '30.0', name: 'temperature.gpu' },\n",
      "  { data: '34.0', name: 'temperature.gpu' },\n",
      "  { data: '35.0', name: 'temperature.gpu' },\n",
      "  { data: '31.0', name: 'temperature.gpu' },\n",
      "  { data: '30.0', name: 'temperature.gpu' },\n",
      "  { data: '36.0', name: 'temperature.gpu' },\n",
      "  { data: '34.0', name: 'temperature.gpu' }\n",
      "]\n"
     ]
    }
   ],
   "source": [
    "var result = _(json.result)\n",
    ".flatMap(\"gpu\")\n",
    ".flatMap(\"gpu_info\")\n",
    ".filter(o => o.name === 'temperature.gpu')\n",
    ".value()\n",
    "console.log(result)"
   ]
  },
  {
   "cell_type": "code",
   "execution_count": 19,
   "metadata": {},
   "outputs": [
    {
     "name": "stdout",
     "output_type": "stream",
     "text": [
      "[\n",
      "  { data: '32.0', name: 'temperature.gpu' },\n",
      "  { data: '34.0', name: 'temperature.gpu' },\n",
      "  { data: '34.0', name: 'temperature.gpu' },\n",
      "  { data: '33.0', name: 'temperature.gpu' },\n",
      "  { data: '33.0', name: 'temperature.gpu' },\n",
      "  { data: '33.0', name: 'temperature.gpu' },\n",
      "  { data: '35.0', name: 'temperature.gpu' },\n",
      "  { data: '34.0', name: 'temperature.gpu' },\n",
      "  { data: '31.0', name: 'temperature.gpu' },\n",
      "  { data: '30.0', name: 'temperature.gpu' },\n",
      "  { data: '35.0', name: 'temperature.gpu' },\n",
      "  { data: '36.0', name: 'temperature.gpu' },\n",
      "  { data: '29.0', name: 'temperature.gpu' },\n",
      "  { data: '36.0', name: 'temperature.gpu' },\n",
      "  { data: '31.0', name: 'temperature.gpu' },\n",
      "  { data: '36.0', name: 'temperature.gpu' },\n",
      "  { data: '30.0', name: 'temperature.gpu' },\n",
      "  { data: '30.0', name: 'temperature.gpu' },\n",
      "  { data: '34.0', name: 'temperature.gpu' },\n",
      "  { data: '35.0', name: 'temperature.gpu' },\n",
      "  { data: '31.0', name: 'temperature.gpu' },\n",
      "  { data: '30.0', name: 'temperature.gpu' },\n",
      "  { data: '36.0', name: 'temperature.gpu' },\n",
      "  { data: '34.0', name: 'temperature.gpu' }\n",
      "]\n"
     ]
    }
   ],
   "source": [
    "var result = _(json.result)\n",
    ".flatMap(\"gpu\")\n",
    ".flatMap(\"gpu_info\")\n",
    ".filter(o => o.name === 'temperature.gpu')\n",
    ".value()\n",
    "console.log(result)\n"
   ]
  },
  {
   "cell_type": "code",
   "execution_count": 20,
   "metadata": {},
   "outputs": [
    {
     "name": "stdout",
     "output_type": "stream",
     "text": [
      "33\n"
     ]
    }
   ],
   "source": [
    "var average = _.meanBy(result, (o) => parseFloat(o.data));\n",
    "console.log(average)"
   ]
  },
  {
   "cell_type": "code",
   "execution_count": null,
   "metadata": {},
   "outputs": [],
   "source": []
  }
 ],
 "metadata": {
  "kernelspec": {
   "display_name": "Javascript (Node.js)",
   "language": "javascript",
   "name": "javascript"
  },
  "language_info": {
   "file_extension": ".js",
   "mimetype": "application/javascript",
   "name": "javascript",
   "version": "12.10.0"
  }
 },
 "nbformat": 4,
 "nbformat_minor": 4
}
