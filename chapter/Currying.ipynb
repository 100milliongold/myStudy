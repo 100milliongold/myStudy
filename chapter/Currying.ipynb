{
 "cells": [
  {
   "cell_type": "markdown",
   "metadata": {},
   "source": [
    "# 커링(curry)"
   ]
  },
  {
   "cell_type": "markdown",
   "metadata": {},
   "source": [
    "## 개요\n",
    "- Currying 은 개념을 만든 Haskell Curry 의 이름에서 따온것이다.\n",
    "- 함수형 프로그래밍 기법 중 하나로 함수를 재사용하는데 유용하게 쓰일 수 있는 기법\n",
    "- 커링은 함수 하나가 n개의 인자를 받는 과정을 n개의 함수로 각각의 인자를 받도록 하는 것이다.\n",
    "- 여러개의 인자를 가진 함수를 호출 할 경우, 파라미터의 수보다 적은 수의 파라미터를 인자로 받으면 누락된 파라미터를 인자로 받는 기법\n",
    "- 함수를 인자로 받아서 함수로 반환하는 메서드"
   ]
  },
  {
   "cell_type": "markdown",
   "metadata": {},
   "source": [
    "---"
   ]
  },
  {
   "cell_type": "markdown",
   "metadata": {},
   "source": [
    "## 요약\n",
    "\n",
    "여러 개의 매개변수를 받아 동작하는 함수가 있을 때, (다변수 함수)\n",
    "\n",
    "한 개의 매개변수를 받아 동작하는 여러 개의 함수로 로직을 분리하는 것이다. (일변수 함수)"
   ]
  },
  {
   "cell_type": "markdown",
   "metadata": {},
   "source": [
    "## 코드 구현"
   ]
  },
  {
   "cell_type": "code",
   "execution_count": 40,
   "metadata": {},
   "outputs": [
    {
     "name": "stdout",
     "output_type": "stream",
     "text": [
      "6\n"
     ]
    }
   ],
   "source": [
    "var curry = f => (a, ..._) => _.length ? f(a, ..._) : (..._) => f(a, ..._);\n",
    "function curryr(fn) {\n",
    "  return function(a, b) {\n",
    "    return arguments.length == 2 ? fn(a, b) : function(b) { return fn(b, a); };\n",
    "  }\n",
    "}\n",
    "var multi = (a ,b) => a * b;\n",
    "multi = curry(multi)\n",
    "console.log(multi(2)(3))"
   ]
  },
  {
   "cell_type": "markdown",
   "metadata": {},
   "source": [
    "## 예시"
   ]
  },
  {
   "cell_type": "code",
   "execution_count": 41,
   "metadata": {},
   "outputs": [],
   "source": [
    "var a = curry((a , b) => a + b)"
   ]
  },
  {
   "cell_type": "code",
   "execution_count": 42,
   "metadata": {},
   "outputs": [
    {
     "data": {
      "text/plain": [
       "7"
      ]
     },
     "execution_count": 42,
     "metadata": {},
     "output_type": "execute_result"
    }
   ],
   "source": [
    "a(5)(2) // 7"
   ]
  },
  {
   "cell_type": "code",
   "execution_count": 43,
   "metadata": {},
   "outputs": [],
   "source": [
    "var add5 = a(5)"
   ]
  },
  {
   "cell_type": "code",
   "execution_count": 44,
   "metadata": {},
   "outputs": [
    {
     "data": {
      "text/plain": [
       "10"
      ]
     },
     "execution_count": 44,
     "metadata": {},
     "output_type": "execute_result"
    }
   ],
   "source": [
    "add5(5) // 10"
   ]
  },
  {
   "cell_type": "markdown",
   "metadata": {},
   "source": [
    "---"
   ]
  },
  {
   "cell_type": "markdown",
   "metadata": {},
   "source": [
    "## 왜 커링을 사용하는가?"
   ]
  },
  {
   "cell_type": "markdown",
   "metadata": {},
   "source": [
    "- 함수형 프로그래밍에서는 Currying이라는 핵심 개념이 있다.\n",
    "- 이는 다변수함수대신 여러 개의 일변수함수를 연결해 최종 연산을 지연시킬 수 있다는 장점이 있다. (Lazy Evaluation)\n",
    "- 즉, Lazy Evaluation의 장점을 극대화 시키는 애플리케이션을 작성하고싶다면 함수형 프로그래밍이 도움을 줄 수 있다."
   ]
  },
  {
   "cell_type": "markdown",
   "metadata": {},
   "source": [
    "### 예시"
   ]
  },
  {
   "cell_type": "markdown",
   "metadata": {},
   "source": [
    "만약 `Array.prototype.map()` 을 이용하여 문자열 형태를 정수형으로 바꿀경우 예들들면 `['123','456','789','890'].map(parseInt)` 을 사용시 비정상적으로 출력이 될 것이다."
   ]
  },
  {
   "cell_type": "code",
   "execution_count": 45,
   "metadata": {},
   "outputs": [
    {
     "data": {
      "text/plain": [
       "[ 123, NaN, NaN, NaN ]"
      ]
     },
     "execution_count": 45,
     "metadata": {},
     "output_type": "execute_result"
    }
   ],
   "source": [
    "['123','456','789','890'].map(parseInt)"
   ]
  },
  {
   "cell_type": "markdown",
   "metadata": {},
   "source": [
    "예상되는 결과 : `[123,456,789,890]`\n",
    "실제 결과 :  `[123, NaN, NaN, NaN]`"
   ]
  },
  {
   "cell_type": "markdown",
   "metadata": {},
   "source": [
    "### 이유"
   ]
  },
  {
   "cell_type": "markdown",
   "metadata": {},
   "source": [
    "`Array.prototype.map()` 특성상 입력받은 함수에 인자값이 3개이상 들어가기 때문이다."
   ]
  },
  {
   "cell_type": "markdown",
   "metadata": {},
   "source": [
    "```arr.map(callback(currentValue[, index[, array]])[, thisArg])```"
   ]
  },
  {
   "cell_type": "markdown",
   "metadata": {},
   "source": [
    "이러한 curry 함수를 통하여 `parseInt()` 함수를 어떠한 인자값이 들어와도 정상적인 값을 출력시킨다면 다음과 같이 `curryr` 을 통하여 처리하면 된다. "
   ]
  },
  {
   "cell_type": "code",
   "execution_count": 46,
   "metadata": {},
   "outputs": [
    {
     "data": {
      "text/plain": [
       "123"
      ]
     },
     "execution_count": 46,
     "metadata": {},
     "output_type": "execute_result"
    }
   ],
   "source": [
    "var parseIntCurry = curryr(parseInt)(0)\n",
    "parseIntCurry(\"123\") // 123"
   ]
  },
  {
   "cell_type": "code",
   "execution_count": 47,
   "metadata": {},
   "outputs": [
    {
     "data": {
      "text/plain": [
       "[ 123, 456, 789, 890 ]"
      ]
     },
     "execution_count": 47,
     "metadata": {},
     "output_type": "execute_result"
    }
   ],
   "source": [
    "['123','456','789','890'].map(parseIntCurry) // [123, 456, 789, 890]"
   ]
  }
 ],
 "metadata": {
  "kernelspec": {
   "display_name": "Javascript (Node.js)",
   "language": "javascript",
   "name": "javascript"
  },
  "language_info": {
   "file_extension": ".js",
   "mimetype": "application/javascript",
   "name": "javascript",
   "version": "12.10.0"
  }
 },
 "nbformat": 4,
 "nbformat_minor": 4
}
