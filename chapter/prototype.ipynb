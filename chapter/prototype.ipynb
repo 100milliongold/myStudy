{
 "cells": [
  {
   "cell_type": "markdown",
   "metadata": {},
   "source": [
    "# 프로토타입 객체\n",
    "\n",
    "자바스크립트의 모든 객체는 자신의 부모 역할을 담당하는 객체와 연결되어 있다. 그리고 이것은 마치 객체 지향의 상속 개념과 같이 부모 객체의 프로퍼티 또는 메소드를 상속받아 사용할 수 있게 한다. 이러한 부모 객체를 Prototype(프로토타입) 객체 또는 줄여서 Prototype(프로토타입)이라 한다.\n",
    "\n",
    "Prototype 객체는 생성자 함수에 의해 생성된 각각의 객체에 공유 프로퍼티를 제공하기 위해 사용한다."
   ]
  },
  {
   "cell_type": "code",
   "execution_count": 1,
   "metadata": {},
   "outputs": [
    {
     "name": "stdout",
     "output_type": "stream",
     "text": [
      "true\n",
      "{ name: 'Lee', score: 90 }\n"
     ]
    }
   ],
   "source": [
    "var student = {\n",
    "  name: 'Lee',\n",
    "  score: 90\n",
    "};\n",
    "\n",
    "// student에는 hasOwnProperty 메소드가 없지만 아래 구문은 동작한다.\n",
    "console.log(student.hasOwnProperty('name')); // true\n",
    "\n",
    "console.dir(student);"
   ]
  },
  {
   "cell_type": "markdown",
   "metadata": {},
   "source": [
    "## 특징\n",
    "* ECMAScript spec에서는 자바스크립트의 모든 객체는 `[[Prototype]]`이라는 인터널 슬롯(internal slot)를 가진다.\n",
    "\n",
    "* `[[Prototype]]`의 값은 null 또는 객체이며 상속을 구현하는데 사용된다.\n",
    "\n",
    "* `[[Prototype]]` 객체의 데이터 프로퍼티는 get 액세스를 위해 상속되어 자식 객체의 프로퍼티처럼 사용할 수 있다. \n",
    "\n",
    "* 하지만 set 액세스는 허용되지 않는다.\n",
    "\n",
    "\n",
    "[[Prototype]]의 값은 Prototype(프로토타입) 객체이며 __proto__ accessor property로 접근할 수 있다. \n",
    "\n",
    "__proto__ 프로퍼티에 접근하면 내부적으로 Object.getPrototypeOf가 호출되어 프로토타입 객체를 반환한다."
   ]
  },
  {
   "cell_type": "code",
   "execution_count": 2,
   "metadata": {},
   "outputs": [
    {
     "name": "stdout",
     "output_type": "stream",
     "text": [
      "true\n"
     ]
    }
   ],
   "source": [
    "var student = {\n",
    "  name: 'Lee',\n",
    "  score: 90\n",
    "}\n",
    "console.log(student.__proto__ === Object.prototype); // true"
   ]
  },
  {
   "cell_type": "markdown",
   "metadata": {},
   "source": [
    "## [[Prototype]] vs prototype 프로퍼티\n",
    "\n",
    "모든 객체는 자신의 프로토타입 객체를 가리키는 `[[Prototype]]` 인터널 슬롯(internal slot) 을 갖으며 상속을 위해 사용된다.\n",
    "\n",
    "함수도 객체이므로 `[[Prototype]]` 인터널 슬롯을 갖는다. 그런데 함수 객체는 일반 객체와는 달리 prototype 프로퍼티도 소유하게 된다.\n",
    "\n",
    "~~~\n",
    "주의해야 할 것은 prototype 프로퍼티는 프로토타입 객체를 가리키는 [[Prototype]] 인터널 슬롯은 다르다는 것이다. prototype 프로퍼티와 [[Prototype]]은 모두 프로토타입 객체를 가리키지만 관점의 차이가 있다.\n",
    "~~~\n"
   ]
  },
  {
   "cell_type": "code",
   "execution_count": 3,
   "metadata": {},
   "outputs": [
    {
     "name": "stdout",
     "output_type": "stream",
     "text": [
      "[Function: Person]\n",
      "Person { name: 'Lee' }\n"
     ]
    }
   ],
   "source": [
    "function Person(name) {\n",
    "  this.name = name;\n",
    "}\n",
    "\n",
    "var foo = new Person('Lee');\n",
    "\n",
    "console.dir(Person); // prototype 프로퍼티가 있다.\n",
    "console.dir(foo);    // prototype 프로퍼티가 없다."
   ]
  },
  {
   "cell_type": "code",
   "execution_count": null,
   "metadata": {},
   "outputs": [],
   "source": []
  }
 ],
 "metadata": {
  "kernelspec": {
   "display_name": "Javascript (Node.js)",
   "language": "javascript",
   "name": "javascript"
  },
  "language_info": {
   "file_extension": ".js",
   "mimetype": "application/javascript",
   "name": "javascript",
   "version": "12.10.0"
  }
 },
 "nbformat": 4,
 "nbformat_minor": 4
}
