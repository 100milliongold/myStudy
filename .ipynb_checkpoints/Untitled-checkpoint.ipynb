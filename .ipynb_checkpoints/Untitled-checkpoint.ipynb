{
 "cells": [
  {
   "cell_type": "markdown",
   "metadata": {},
   "source": [
    "# 이터러블"
   ]
  },
  {
   "cell_type": "markdown",
   "metadata": {},
   "source": [
    "* 정의 : 자바스크립트 리스트 에서는 `Symbol.iterator` 이 내장되어 있어서 기본적으로 이터러블 프로그래밍이 가능하고 , 사용자는 이를 이용하여 유사적으로 이터러블 을 구현이 가능하다."
   ]
  },
  {
   "cell_type": "markdown",
   "metadata": {},
   "source": [
    "## 모든 오브젝트 에는  이터러블이 정의되어 있다."
   ]
  },
  {
   "cell_type": "code",
   "execution_count": 14,
   "metadata": {},
   "outputs": [
    {
     "name": "stdout",
     "output_type": "stream",
     "text": [
      "{ value: 1, done: false }\n",
      "{ value: 2, done: false }\n",
      "{ value: 3, done: false }\n",
      "{ value: 4, done: false }\n",
      "{ value: undefined, done: true }\n"
     ]
    }
   ],
   "source": [
    "var it = [1,2,3,4][Symbol.iterator]()\n",
    "console.log(it.next()) //{value: 1, done: false}\n",
    "console.log(it.next()) //{value: 2, done: false}\n",
    "console.log(it.next()) //{value: 3, done: false}\n",
    "console.log(it.next()) //{value: 4, done: false}\n",
    "console.log(it.next()) //{value: undefined, done: true}"
   ]
  },
  {
   "cell_type": "markdown",
   "metadata": {},
   "source": [
    "## 사용자가 임의로 정의할수 있다."
   ]
  },
  {
   "cell_type": "code",
   "execution_count": 15,
   "metadata": {},
   "outputs": [
    {
     "name": "stdout",
     "output_type": "stream",
     "text": [
      "3\n",
      "2\n",
      "1\n"
     ]
    }
   ],
   "source": [
    "var iterable = {\n",
    "    [Symbol.iterator]() {\n",
    "      let i = 3;\n",
    "      return {\n",
    "        next() {\n",
    "          return i == 0 ? {done: true} : {value: i--, done: false};\n",
    "        },\n",
    "        [Symbol.iterator]() {\n",
    "          return this;\n",
    "        }\n",
    "      }\n",
    "    }\n",
    "  };\n",
    "\n",
    "var iter2 = iterable[Symbol.iterator]()\n",
    "for(const a of iter2){\n",
    "    console.log(a)\n",
    "}"
   ]
  },
  {
   "cell_type": "markdown",
   "metadata": {},
   "source": [
    "## lodash 에서도 이터러블이 가능하다"
   ]
  },
  {
   "cell_type": "code",
   "execution_count": 16,
   "metadata": {},
   "outputs": [
    {
     "name": "stdout",
     "output_type": "stream",
     "text": [
      "1\n",
      "4\n",
      "9\n",
      "16\n"
     ]
    }
   ],
   "source": [
    "var _ = require('lodash');\n",
    "var ot = _([1,2,3,4]).map(o => o * o)\n",
    "for(const a of ot){\n",
    "    console.log(a)\n",
    "}"
   ]
  },
  {
   "cell_type": "markdown",
   "metadata": {},
   "source": [
    "# 제너레이터"
   ]
  },
  {
   "cell_type": "markdown",
   "metadata": {},
   "source": [
    "## 개요"
   ]
  },
  {
   "cell_type": "markdown",
   "metadata": {},
   "source": [
    "> function* 선언 (끝에 별표가 있는 function keyword) 은 generator function 을 정의하는데, 이 함수는 Generator 객체를 반환합니다. - MDN"
   ]
  },
  {
   "cell_type": "code",
   "execution_count": 17,
   "metadata": {},
   "outputs": [
    {
     "name": "stdout",
     "output_type": "stream",
     "text": [
      "1\n",
      "2\n",
      "3\n"
     ]
    }
   ],
   "source": [
    "function* foo() {\n",
    "  yield 1\n",
    "  yield 2\n",
    "  yield 3\n",
    "}\n",
    "// foo()로 생성된 제너레이터를 순회하며 값을 읽어간다.\n",
    "for (let i of foo()) { \n",
    "  console.log(i)\n",
    "}"
   ]
  },
  {
   "cell_type": "markdown",
   "metadata": {},
   "source": [
    "* Generator 함수는 호출되어도 즉시 실행되지 않고, 대신 함수를 위한 Iterator 객체가 반환되고 Iterator의 next() 메서드를 호출하면 Generator 함수가 실행되어 yield 문을 만날 때까지 진행한다."
   ]
  },
  {
   "cell_type": "markdown",
   "metadata": {},
   "source": [
    "## 예시1) 무한수열 표현"
   ]
  },
  {
   "cell_type": "code",
   "execution_count": 18,
   "metadata": {},
   "outputs": [
    {
     "name": "stdout",
     "output_type": "stream",
     "text": [
      "{ value: 0, done: false }\n",
      "{ value: 1, done: false }\n",
      "{ value: 2, done: false }\n",
      "{ value: 3, done: false }\n",
      "{ value: 4, done: false }\n"
     ]
    }
   ],
   "source": [
    "function* infinity(start = 0){ while(true){ yield start++; } }\n",
    "var it= infinity()\n",
    "console.log(it.next()) //{value: 0, done: false}\n",
    "console.log(it.next()) //{value: 1, done: false}\n",
    "console.log(it.next()) //{value: 2, done: false}\n",
    "console.log(it.next()) //{value: 3, done: false}\n",
    "console.log(it.next()) //{value: 4, done: false}\n"
   ]
  },
  {
   "cell_type": "code",
   "execution_count": 19,
   "metadata": {},
   "outputs": [
    {
     "name": "stdout",
     "output_type": "stream",
     "text": [
      "0\n",
      "1\n",
      "2\n"
     ]
    }
   ],
   "source": [
    "function* limit(limit = 0 , iter){ \n",
    "    let i = 0;\n",
    "    for(const v of iter){ \n",
    "        if(i === limit) break;\n",
    "        yield v\n",
    "        i ++;\n",
    "    }\n",
    "}\n",
    "var printer = (...items) => items.forEach(item => console.log(item))\n",
    "\n",
    "var it2 = limit(3, infinity(0))\n",
    "printer(...it2)"
   ]
  },
  {
   "cell_type": "markdown",
   "metadata": {},
   "source": [
    "## 예시2) 피보나치 수열"
   ]
  },
  {
   "cell_type": "code",
   "execution_count": 20,
   "metadata": {},
   "outputs": [
    {
     "name": "stdout",
     "output_type": "stream",
     "text": [
      "1\n",
      "1\n",
      "2\n",
      "3\n",
      "5\n",
      "8\n",
      "13\n",
      "21\n",
      "34\n",
      "55\n"
     ]
    }
   ],
   "source": [
    "function* fibonacci(n) {\n",
    "  let i;\n",
    "  let one = 1 , two = 0, result = -1;  // one은 n-2, two는n-1 값 \n",
    "  for(i=1; i<=n; i++) {\n",
    "      result = one + two;   // 직전(n-1)과 직직전(n-2) 값을 더해서 돌려줌 \n",
    "      one = two;      // 직직전(n-2) = 직전(n-1)\n",
    "      two = result;     // 직전(n-1) = 현재값(now)  \n",
    "      yield result;\n",
    "    }\n",
    "}\n",
    "\n",
    "var it = fibonacci(10)\n",
    "printer(...it)"
   ]
  },
  {
   "cell_type": "code",
   "execution_count": null,
   "metadata": {},
   "outputs": [],
   "source": []
  }
 ],
 "metadata": {
  "kernelspec": {
   "display_name": "Javascript (Node.js)",
   "language": "javascript",
   "name": "javascript"
  },
  "language_info": {
   "file_extension": ".js",
   "mimetype": "application/javascript",
   "name": "javascript",
   "version": "10.16.3"
  }
 },
 "nbformat": 4,
 "nbformat_minor": 4
}
